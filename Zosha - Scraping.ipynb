{
 "cells": [
  {
   "cell_type": "code",
   "execution_count": 1,
   "metadata": {
    "collapsed": true
   },
   "outputs": [],
   "source": [
    "import requests\n",
    "k = requests.get('http://www.onlyinyourstate.com/minnesota/incredible-facts-mn/')"
   ]
  },
  {
   "cell_type": "code",
   "execution_count": 2,
   "metadata": {},
   "outputs": [
    {
     "name": "stdout",
     "output_type": "stream",
     "text": [
      "<!DOCTYPE html>\r\n",
      "<html xmlns=\"http://www.w3.org/1999/xhtml\" xmlns:og=\"http://opengraphprotocol.org/schema/\" xmlns:fb=\"http://www.facebook.com/2008/fbml\" dir=\"ltr\" lang=\"en-US\">\r\n",
      "\t<head profile=\"http://gmpg.org/xfn/11\">\r\n",
      "\t\t<meta charset=\"UTF-8\">\r\n",
      "\t\t<meta name=\"viewport\" content=\"width=device-width, user-scalable=yes\">\r\n",
      "\t\t<link rel=\"icon\" type=\"image/png\" href=\"http://cdn.onlyinyourstate.com/wp-cont\n"
     ]
    }
   ],
   "source": [
    "print(k.text[:400])"
   ]
  },
  {
   "cell_type": "code",
   "execution_count": 3,
   "metadata": {
    "collapsed": true
   },
   "outputs": [],
   "source": [
    "from bs4 import BeautifulSoup\n",
    "soup = BeautifulSoup(k.text, 'html.parser')"
   ]
  },
  {
   "cell_type": "code",
   "execution_count": 11,
   "metadata": {
    "collapsed": true
   },
   "outputs": [],
   "source": [
    "mnFacts = soup.find_all('figcaption')"
   ]
  },
  {
   "cell_type": "code",
   "execution_count": 12,
   "metadata": {},
   "outputs": [
    {
     "data": {
      "text/plain": [
       "14"
      ]
     },
     "execution_count": 12,
     "metadata": {},
     "output_type": "execute_result"
    }
   ],
   "source": [
    "len(mnFacts) "
   ]
  },
  {
   "cell_type": "markdown",
   "metadata": {},
   "source": [
    "***Hmmm, only supposed to have 13 facts, but it's a buzz-feed-esque article that puts another photo and caption for emphasis, not an additional fact... Nothing that I can see in the html to distinguish it from the others."
   ]
  },
  {
   "cell_type": "code",
   "execution_count": 13,
   "metadata": {},
   "outputs": [
    {
     "data": {
      "text/plain": [
       "<figcaption class=\" gallery-caption \">1. There are 69,200 miles of rivers and streams in Minnesota. That's enough to circle the equator 2 3/4 times!</figcaption>"
      ]
     },
     "execution_count": 13,
     "metadata": {},
     "output_type": "execute_result"
    }
   ],
   "source": [
    "mnFacts[0]"
   ]
  },
  {
   "cell_type": "code",
   "execution_count": 14,
   "metadata": {},
   "outputs": [
    {
     "data": {
      "text/plain": [
       "\"1. There are 69,200 miles of rivers and streams in Minnesota. That's enough to circle the equator 2 3/4 times!\""
      ]
     },
     "execution_count": 14,
     "metadata": {},
     "output_type": "execute_result"
    }
   ],
   "source": [
    "mnFacts[0].text"
   ]
  },
  {
   "cell_type": "code",
   "execution_count": 15,
   "metadata": {
    "collapsed": true
   },
   "outputs": [],
   "source": [
    "table = []\n",
    "for i in mnFacts:\n",
    "    mnFact = i.text\n",
    "    table.append(mnFact)"
   ]
  },
  {
   "cell_type": "code",
   "execution_count": 16,
   "metadata": {},
   "outputs": [
    {
     "data": {
      "text/plain": [
       "14"
      ]
     },
     "execution_count": 16,
     "metadata": {},
     "output_type": "execute_result"
    }
   ],
   "source": [
    "len(table)"
   ]
  },
  {
   "cell_type": "code",
   "execution_count": 19,
   "metadata": {},
   "outputs": [
    {
     "data": {
      "text/plain": [
       "[\"1. There are 69,200 miles of rivers and streams in Minnesota. That's enough to circle the equator 2 3/4 times!\",\n",
       " '2. Minnesota produces more turkeys each year than there are people in California.',\n",
       " \"3. Minnesota has one recreational boat per every six people; that's 909,528 boats, more than the population of South Dakota (and North Dakota).\",\n",
       " '4. Minnesota has over 3 times more white-tailed deer than college students.',\n",
       " '5. 3 million cows live in MN.  More cows than there are people in 20 different states.',\n",
       " '6. The Mall of America in Bloomington is big enough to hold 32 Boeing 747 airplanes.',\n",
       " 'Yes, these.',\n",
       " \"7. MN stocks its waters with 256,259,500 fish on average per year. That's enough to give 4 out of 5 people in the US a fish.\",\n",
       " \"8. Minnesota harvests 18,900,000 lbs of fish per year; that's enough to fill the beds of 10,384 Ford F-150 Pickups.\",\n",
       " '9. In 2015, the MN State Fair logged 1,779,738 visitors, enough to fill the new Vikings stadium more than 24 times!',\n",
       " '10. In 2014, MN produced 1.18 billion bushels of corn, the weight of over 90 Empire State Buildings.',\n",
       " \"11. Minnesota's craft breweries sell enough beer annually to pay for the entire state to stream Netflix for over 2 years!\",\n",
       " '12. The Minnesota Department of Natural Resources manages 3,134,900 acres of land - nearly twice the size of Delaware.',\n",
       " '13. MN has 13,136,357 acres of total surface water,  more area than all the land in Hawaii and New Jersey combined.']"
      ]
     },
     "execution_count": 19,
     "metadata": {},
     "output_type": "execute_result"
    }
   ],
   "source": [
    "table"
   ]
  },
  {
   "cell_type": "code",
   "execution_count": 20,
   "metadata": {
    "collapsed": true
   },
   "outputs": [],
   "source": [
    "import pandas as pd\n",
    "df = pd.DataFrame(table, columns=['MN Facts'])"
   ]
  },
  {
   "cell_type": "code",
   "execution_count": 30,
   "metadata": {},
   "outputs": [
    {
     "data": {
      "text/html": [
       "<div>\n",
       "<style>\n",
       "    .dataframe thead tr:only-child th {\n",
       "        text-align: right;\n",
       "    }\n",
       "\n",
       "    .dataframe thead th {\n",
       "        text-align: left;\n",
       "    }\n",
       "\n",
       "    .dataframe tbody tr th {\n",
       "        vertical-align: top;\n",
       "    }\n",
       "</style>\n",
       "<table border=\"1\" class=\"dataframe\">\n",
       "  <thead>\n",
       "    <tr style=\"text-align: right;\">\n",
       "      <th></th>\n",
       "      <th>MN Facts</th>\n",
       "    </tr>\n",
       "  </thead>\n",
       "  <tbody>\n",
       "    <tr>\n",
       "      <th>0</th>\n",
       "      <td>1. There are 69,200 miles of rivers and stream...</td>\n",
       "    </tr>\n",
       "    <tr>\n",
       "      <th>1</th>\n",
       "      <td>2. Minnesota produces more turkeys each year t...</td>\n",
       "    </tr>\n",
       "    <tr>\n",
       "      <th>2</th>\n",
       "      <td>3. Minnesota has one recreational boat per eve...</td>\n",
       "    </tr>\n",
       "    <tr>\n",
       "      <th>3</th>\n",
       "      <td>4. Minnesota has over 3 times more white-taile...</td>\n",
       "    </tr>\n",
       "    <tr>\n",
       "      <th>4</th>\n",
       "      <td>5. 3 million cows live in MN.  More cows than ...</td>\n",
       "    </tr>\n",
       "    <tr>\n",
       "      <th>5</th>\n",
       "      <td>6. The Mall of America in Bloomington is big e...</td>\n",
       "    </tr>\n",
       "    <tr>\n",
       "      <th>6</th>\n",
       "      <td>Yes, these.</td>\n",
       "    </tr>\n",
       "    <tr>\n",
       "      <th>7</th>\n",
       "      <td>7. MN stocks its waters with 256,259,500 fish ...</td>\n",
       "    </tr>\n",
       "    <tr>\n",
       "      <th>8</th>\n",
       "      <td>8. Minnesota harvests 18,900,000 lbs of fish p...</td>\n",
       "    </tr>\n",
       "    <tr>\n",
       "      <th>9</th>\n",
       "      <td>9. In 2015, the MN State Fair logged 1,779,738...</td>\n",
       "    </tr>\n",
       "    <tr>\n",
       "      <th>10</th>\n",
       "      <td>10. In 2014, MN produced 1.18 billion bushels ...</td>\n",
       "    </tr>\n",
       "    <tr>\n",
       "      <th>11</th>\n",
       "      <td>11. Minnesota's craft breweries sell enough be...</td>\n",
       "    </tr>\n",
       "    <tr>\n",
       "      <th>12</th>\n",
       "      <td>12. The Minnesota Department of Natural Resour...</td>\n",
       "    </tr>\n",
       "    <tr>\n",
       "      <th>13</th>\n",
       "      <td>13. MN has 13,136,357 acres of total surface w...</td>\n",
       "    </tr>\n",
       "  </tbody>\n",
       "</table>\n",
       "</div>"
      ],
      "text/plain": [
       "                                             MN Facts\n",
       "0   1. There are 69,200 miles of rivers and stream...\n",
       "1   2. Minnesota produces more turkeys each year t...\n",
       "2   3. Minnesota has one recreational boat per eve...\n",
       "3   4. Minnesota has over 3 times more white-taile...\n",
       "4   5. 3 million cows live in MN.  More cows than ...\n",
       "5   6. The Mall of America in Bloomington is big e...\n",
       "6                                         Yes, these.\n",
       "7   7. MN stocks its waters with 256,259,500 fish ...\n",
       "8   8. Minnesota harvests 18,900,000 lbs of fish p...\n",
       "9   9. In 2015, the MN State Fair logged 1,779,738...\n",
       "10  10. In 2014, MN produced 1.18 billion bushels ...\n",
       "11  11. Minnesota's craft breweries sell enough be...\n",
       "12  12. The Minnesota Department of Natural Resour...\n",
       "13  13. MN has 13,136,357 acres of total surface w..."
      ]
     },
     "execution_count": 30,
     "metadata": {},
     "output_type": "execute_result"
    }
   ],
   "source": [
    "df"
   ]
  },
  {
   "cell_type": "code",
   "execution_count": 33,
   "metadata": {},
   "outputs": [
    {
     "data": {
      "text/html": [
       "<div>\n",
       "<style>\n",
       "    .dataframe thead tr:only-child th {\n",
       "        text-align: right;\n",
       "    }\n",
       "\n",
       "    .dataframe thead th {\n",
       "        text-align: left;\n",
       "    }\n",
       "\n",
       "    .dataframe tbody tr th {\n",
       "        vertical-align: top;\n",
       "    }\n",
       "</style>\n",
       "<table border=\"1\" class=\"dataframe\">\n",
       "  <thead>\n",
       "    <tr style=\"text-align: right;\">\n",
       "      <th></th>\n",
       "      <th>MN Facts</th>\n",
       "    </tr>\n",
       "  </thead>\n",
       "  <tbody>\n",
       "    <tr>\n",
       "      <th>0</th>\n",
       "      <td>1. There are 69,200 miles of rivers and stream...</td>\n",
       "    </tr>\n",
       "    <tr>\n",
       "      <th>1</th>\n",
       "      <td>2. Minnesota produces more turkeys each year t...</td>\n",
       "    </tr>\n",
       "    <tr>\n",
       "      <th>2</th>\n",
       "      <td>3. Minnesota has one recreational boat per eve...</td>\n",
       "    </tr>\n",
       "    <tr>\n",
       "      <th>3</th>\n",
       "      <td>4. Minnesota has over 3 times more white-taile...</td>\n",
       "    </tr>\n",
       "    <tr>\n",
       "      <th>4</th>\n",
       "      <td>5. 3 million cows live in MN.  More cows than ...</td>\n",
       "    </tr>\n",
       "    <tr>\n",
       "      <th>5</th>\n",
       "      <td>6. The Mall of America in Bloomington is big e...</td>\n",
       "    </tr>\n",
       "    <tr>\n",
       "      <th>7</th>\n",
       "      <td>7. MN stocks its waters with 256,259,500 fish ...</td>\n",
       "    </tr>\n",
       "    <tr>\n",
       "      <th>8</th>\n",
       "      <td>8. Minnesota harvests 18,900,000 lbs of fish p...</td>\n",
       "    </tr>\n",
       "    <tr>\n",
       "      <th>9</th>\n",
       "      <td>9. In 2015, the MN State Fair logged 1,779,738...</td>\n",
       "    </tr>\n",
       "    <tr>\n",
       "      <th>10</th>\n",
       "      <td>10. In 2014, MN produced 1.18 billion bushels ...</td>\n",
       "    </tr>\n",
       "    <tr>\n",
       "      <th>11</th>\n",
       "      <td>11. Minnesota's craft breweries sell enough be...</td>\n",
       "    </tr>\n",
       "    <tr>\n",
       "      <th>12</th>\n",
       "      <td>12. The Minnesota Department of Natural Resour...</td>\n",
       "    </tr>\n",
       "    <tr>\n",
       "      <th>13</th>\n",
       "      <td>13. MN has 13,136,357 acres of total surface w...</td>\n",
       "    </tr>\n",
       "  </tbody>\n",
       "</table>\n",
       "</div>"
      ],
      "text/plain": [
       "                                             MN Facts\n",
       "0   1. There are 69,200 miles of rivers and stream...\n",
       "1   2. Minnesota produces more turkeys each year t...\n",
       "2   3. Minnesota has one recreational boat per eve...\n",
       "3   4. Minnesota has over 3 times more white-taile...\n",
       "4   5. 3 million cows live in MN.  More cows than ...\n",
       "5   6. The Mall of America in Bloomington is big e...\n",
       "7   7. MN stocks its waters with 256,259,500 fish ...\n",
       "8   8. Minnesota harvests 18,900,000 lbs of fish p...\n",
       "9   9. In 2015, the MN State Fair logged 1,779,738...\n",
       "10  10. In 2014, MN produced 1.18 billion bushels ...\n",
       "11  11. Minnesota's craft breweries sell enough be...\n",
       "12  12. The Minnesota Department of Natural Resour...\n",
       "13  13. MN has 13,136,357 acres of total surface w..."
      ]
     },
     "execution_count": 33,
     "metadata": {},
     "output_type": "execute_result"
    }
   ],
   "source": [
    "df.drop(6)"
   ]
  },
  {
   "cell_type": "code",
   "execution_count": null,
   "metadata": {
    "collapsed": true
   },
   "outputs": [],
   "source": []
  }
 ],
 "metadata": {
  "kernelspec": {
   "display_name": "Python 3",
   "language": "python",
   "name": "python3"
  },
  "language_info": {
   "codemirror_mode": {
    "name": "ipython",
    "version": 3
   },
   "file_extension": ".py",
   "mimetype": "text/x-python",
   "name": "python",
   "nbconvert_exporter": "python",
   "pygments_lexer": "ipython3",
   "version": "3.6.3"
  }
 },
 "nbformat": 4,
 "nbformat_minor": 2
}
